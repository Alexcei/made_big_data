{
 "cells": [
  {
   "cell_type": "markdown",
   "metadata": {},
   "source": [
    "# Быстрая навигация\n",
    "* [Блок 1. HashingTF и IDF](#10)  \n",
    "* [Блок 2. Word2Vec](#20)  "
   ]
  },
  {
   "cell_type": "code",
   "execution_count": 28,
   "metadata": {
    "execution": {
     "iopub.execute_input": "2022-12-10T19:47:08.143990Z",
     "iopub.status.busy": "2022-12-10T19:47:08.143628Z",
     "iopub.status.idle": "2022-12-10T19:47:08.147328Z",
     "shell.execute_reply": "2022-12-10T19:47:08.146649Z",
     "shell.execute_reply.started": "2022-12-10T19:47:08.143950Z"
    }
   },
   "outputs": [],
   "source": [
    "# !pip install pyspark"
   ]
  },
  {
   "cell_type": "code",
   "execution_count": 3,
   "metadata": {
    "execution": {
     "iopub.execute_input": "2022-12-10T19:24:24.247564Z",
     "iopub.status.busy": "2022-12-10T19:24:24.247329Z",
     "iopub.status.idle": "2022-12-10T19:24:24.311007Z",
     "shell.execute_reply": "2022-12-10T19:24:24.310165Z",
     "shell.execute_reply.started": "2022-12-10T19:24:24.247543Z"
    }
   },
   "outputs": [],
   "source": [
    "import numpy as np\n",
    "import pandas as pd\n",
    "\n",
    "from pyspark.sql import SparkSession "
   ]
  },
  {
   "cell_type": "code",
   "execution_count": 5,
   "metadata": {
    "execution": {
     "iopub.execute_input": "2022-12-10T19:24:24.319081Z",
     "iopub.status.busy": "2022-12-10T19:24:24.318832Z",
     "iopub.status.idle": "2022-12-10T19:24:28.364375Z",
     "shell.execute_reply": "2022-12-10T19:24:28.363378Z",
     "shell.execute_reply.started": "2022-12-10T19:24:24.319059Z"
    }
   },
   "outputs": [
    {
     "name": "stderr",
     "output_type": "stream",
     "text": [
      "Setting default log level to \"WARN\".\n",
      "To adjust logging level use sc.setLogLevel(newLevel). For SparkR, use setLogLevel(newLevel).\n"
     ]
    },
    {
     "name": "stdout",
     "output_type": "stream",
     "text": [
      "22/12/10 19:24:26 WARN NativeCodeLoader: Unable to load native-hadoop library for your platform... using builtin-java classes where applicable\n"
     ]
    }
   ],
   "source": [
    "# Create SparkSession\n",
    "spark = SparkSession.builder.appName('text_classification').getOrCreate()"
   ]
  },
  {
   "cell_type": "code",
   "execution_count": 6,
   "metadata": {
    "execution": {
     "iopub.execute_input": "2022-12-10T19:24:28.365794Z",
     "iopub.status.busy": "2022-12-10T19:24:28.365485Z",
     "iopub.status.idle": "2022-12-10T19:24:29.881485Z",
     "shell.execute_reply": "2022-12-10T19:24:29.880720Z",
     "shell.execute_reply.started": "2022-12-10T19:24:28.365763Z"
    }
   },
   "outputs": [
    {
     "data": {
      "text/plain": [
       "(159571, 8)"
      ]
     },
     "execution_count": 6,
     "metadata": {},
     "output_type": "execute_result"
    }
   ],
   "source": [
    "df = pd.read_csv('train.csv') # from /kaggle/input/jigsaw-toxic-comment-classification-challenge/\n",
    "df.shape"
   ]
  },
  {
   "cell_type": "code",
   "execution_count": 7,
   "metadata": {
    "execution": {
     "iopub.execute_input": "2022-12-10T19:24:29.882697Z",
     "iopub.status.busy": "2022-12-10T19:24:29.882417Z",
     "iopub.status.idle": "2022-12-10T19:24:29.898291Z",
     "shell.execute_reply": "2022-12-10T19:24:29.897424Z",
     "shell.execute_reply.started": "2022-12-10T19:24:29.882673Z"
    }
   },
   "outputs": [
    {
     "data": {
      "text/plain": [
       "0    144277\n",
       "1     15294\n",
       "Name: toxic, dtype: int64"
      ]
     },
     "execution_count": 7,
     "metadata": {},
     "output_type": "execute_result"
    }
   ],
   "source": [
    "df.toxic.value_counts()"
   ]
  },
  {
   "cell_type": "code",
   "execution_count": 8,
   "metadata": {
    "execution": {
     "iopub.execute_input": "2022-12-10T19:24:29.900052Z",
     "iopub.status.busy": "2022-12-10T19:24:29.899353Z",
     "iopub.status.idle": "2022-12-10T19:24:29.934929Z",
     "shell.execute_reply": "2022-12-10T19:24:29.934149Z",
     "shell.execute_reply.started": "2022-12-10T19:24:29.900028Z"
    }
   },
   "outputs": [
    {
     "data": {
      "text/plain": [
       "(159571, 2)"
      ]
     },
     "execution_count": 8,
     "metadata": {},
     "output_type": "execute_result"
    }
   ],
   "source": [
    "df = df[['comment_text', 'toxic']]\n",
    "df.fillna(\"\", inplace=True)\n",
    "df.shape"
   ]
  },
  {
   "cell_type": "code",
   "execution_count": 9,
   "metadata": {
    "execution": {
     "iopub.execute_input": "2022-12-10T19:24:29.937084Z",
     "iopub.status.busy": "2022-12-10T19:24:29.936655Z",
     "iopub.status.idle": "2022-12-10T19:24:30.361347Z",
     "shell.execute_reply": "2022-12-10T19:24:30.360299Z",
     "shell.execute_reply.started": "2022-12-10T19:24:29.937049Z"
    }
   },
   "outputs": [
    {
     "data": {
      "text/plain": [
       "((111699, 2), (47872, 2))"
      ]
     },
     "execution_count": 9,
     "metadata": {},
     "output_type": "execute_result"
    }
   ],
   "source": [
    "from sklearn.model_selection import train_test_split\n",
    "\n",
    "df_train, df_test = train_test_split(df, test_size=0.3, random_state=42)\n",
    "df_train.shape, df_test.shape"
   ]
  },
  {
   "cell_type": "code",
   "execution_count": 10,
   "metadata": {
    "execution": {
     "iopub.execute_input": "2022-12-10T19:24:30.364624Z",
     "iopub.status.busy": "2022-12-10T19:24:30.364348Z",
     "iopub.status.idle": "2022-12-10T19:24:37.470211Z",
     "shell.execute_reply": "2022-12-10T19:24:37.469475Z",
     "shell.execute_reply.started": "2022-12-10T19:24:30.364601Z"
    }
   },
   "outputs": [],
   "source": [
    "train = spark.createDataFrame(df_train)\n",
    "test = spark.createDataFrame(df_test)"
   ]
  },
  {
   "cell_type": "markdown",
   "metadata": {},
   "source": [
    "<a id=\"10\"></a><h3 style='background:black; border:0; color:white'><center>Блок 1. HashingTF и IDF<center>"
   ]
  },
  {
   "cell_type": "code",
   "execution_count": 11,
   "metadata": {
    "execution": {
     "iopub.execute_input": "2022-12-10T19:24:37.472545Z",
     "iopub.status.busy": "2022-12-10T19:24:37.472157Z",
     "iopub.status.idle": "2022-12-10T19:24:45.973219Z",
     "shell.execute_reply": "2022-12-10T19:24:45.972052Z",
     "shell.execute_reply.started": "2022-12-10T19:24:37.472519Z"
    }
   },
   "outputs": [
    {
     "name": "stdout",
     "output_type": "stream",
     "text": [
      "22/12/10 19:24:39 WARN TaskSetManager: Stage 0 contains a task of very large size (10938 KiB). The maximum recommended task size is 1000 KiB.\n"
     ]
    },
    {
     "name": "stderr",
     "output_type": "stream",
     "text": [
      "                                                                                \r"
     ]
    }
   ],
   "source": [
    "from pyspark.ml.feature import Tokenizer, HashingTF, IDF\n",
    "\n",
    "tokenizer = Tokenizer(inputCol=\"comment_text\", outputCol=\"words\")\n",
    "wordsData = tokenizer.transform(train)\n",
    "\n",
    "hashingTF = HashingTF(inputCol=\"words\", outputCol=\"rawFeatures\", numFeatures=20000)\n",
    "tf = hashingTF.transform(wordsData)\n",
    "\n",
    "idf = IDF(inputCol=\"rawFeatures\", outputCol=\"features\")\n",
    "idfModel = idf.fit(tf) \n",
    "tfidf = idfModel.transform(tf)"
   ]
  },
  {
   "cell_type": "code",
   "execution_count": 12,
   "metadata": {
    "execution": {
     "iopub.execute_input": "2022-12-10T19:24:45.974846Z",
     "iopub.status.busy": "2022-12-10T19:24:45.974508Z",
     "iopub.status.idle": "2022-12-10T19:25:02.723807Z",
     "shell.execute_reply": "2022-12-10T19:25:02.723023Z",
     "shell.execute_reply.started": "2022-12-10T19:24:45.974813Z"
    }
   },
   "outputs": [
    {
     "name": "stdout",
     "output_type": "stream",
     "text": [
      "22/12/10 19:24:46 WARN TaskSetManager: Stage 1 contains a task of very large size (10938 KiB). The maximum recommended task size is 1000 KiB.\n"
     ]
    },
    {
     "name": "stderr",
     "output_type": "stream",
     "text": [
      "                                                                                \r"
     ]
    },
    {
     "name": "stdout",
     "output_type": "stream",
     "text": [
      "22/12/10 19:24:50 WARN TaskSetManager: Stage 2 contains a task of very large size (10938 KiB). The maximum recommended task size is 1000 KiB.\n"
     ]
    },
    {
     "name": "stderr",
     "output_type": "stream",
     "text": [
      "                                                                                \r"
     ]
    },
    {
     "name": "stdout",
     "output_type": "stream",
     "text": [
      "22/12/10 19:24:54 WARN BLAS: Failed to load implementation from: com.github.fommil.netlib.NativeSystemBLAS\n",
      "22/12/10 19:24:54 WARN BLAS: Failed to load implementation from: com.github.fommil.netlib.NativeRefBLAS\n",
      "22/12/10 19:24:54 WARN TaskSetManager: Stage 3 contains a task of very large size (10938 KiB). The maximum recommended task size is 1000 KiB.\n",
      "22/12/10 19:24:54 WARN TaskSetManager: Stage 4 contains a task of very large size (10938 KiB). The maximum recommended task size is 1000 KiB.\n",
      "22/12/10 19:24:55 WARN TaskSetManager: Stage 5 contains a task of very large size (10938 KiB). The maximum recommended task size is 1000 KiB.\n",
      "22/12/10 19:24:55 WARN TaskSetManager: Stage 6 contains a task of very large size (10938 KiB). The maximum recommended task size is 1000 KiB.\n",
      "22/12/10 19:24:55 WARN TaskSetManager: Stage 7 contains a task of very large size (10938 KiB). The maximum recommended task size is 1000 KiB.\n",
      "22/12/10 19:24:55 WARN TaskSetManager: Stage 8 contains a task of very large size (10938 KiB). The maximum recommended task size is 1000 KiB.\n",
      "22/12/10 19:24:56 WARN TaskSetManager: Stage 9 contains a task of very large size (10938 KiB). The maximum recommended task size is 1000 KiB.\n",
      "22/12/10 19:24:56 WARN TaskSetManager: Stage 10 contains a task of very large size (10938 KiB). The maximum recommended task size is 1000 KiB.\n",
      "22/12/10 19:24:56 WARN TaskSetManager: Stage 11 contains a task of very large size (10938 KiB). The maximum recommended task size is 1000 KiB.\n",
      "22/12/10 19:24:56 WARN TaskSetManager: Stage 12 contains a task of very large size (10938 KiB). The maximum recommended task size is 1000 KiB.\n",
      "22/12/10 19:24:56 WARN TaskSetManager: Stage 13 contains a task of very large size (10938 KiB). The maximum recommended task size is 1000 KiB.\n",
      "22/12/10 19:24:57 WARN TaskSetManager: Stage 14 contains a task of very large size (10938 KiB). The maximum recommended task size is 1000 KiB.\n",
      "22/12/10 19:24:57 WARN TaskSetManager: Stage 15 contains a task of very large size (10938 KiB). The maximum recommended task size is 1000 KiB.\n",
      "22/12/10 19:24:57 WARN TaskSetManager: Stage 16 contains a task of very large size (10938 KiB). The maximum recommended task size is 1000 KiB.\n",
      "22/12/10 19:24:57 WARN TaskSetManager: Stage 17 contains a task of very large size (10938 KiB). The maximum recommended task size is 1000 KiB.\n",
      "22/12/10 19:24:58 WARN TaskSetManager: Stage 18 contains a task of very large size (10938 KiB). The maximum recommended task size is 1000 KiB.\n",
      "22/12/10 19:24:58 WARN TaskSetManager: Stage 19 contains a task of very large size (10938 KiB). The maximum recommended task size is 1000 KiB.\n",
      "22/12/10 19:24:58 WARN TaskSetManager: Stage 20 contains a task of very large size (10938 KiB). The maximum recommended task size is 1000 KiB.\n",
      "22/12/10 19:24:58 WARN TaskSetManager: Stage 21 contains a task of very large size (10938 KiB). The maximum recommended task size is 1000 KiB.\n",
      "22/12/10 19:24:58 WARN TaskSetManager: Stage 22 contains a task of very large size (10938 KiB). The maximum recommended task size is 1000 KiB.\n",
      "22/12/10 19:24:58 WARN TaskSetManager: Stage 23 contains a task of very large size (10938 KiB). The maximum recommended task size is 1000 KiB.\n",
      "22/12/10 19:24:59 WARN TaskSetManager: Stage 24 contains a task of very large size (10938 KiB). The maximum recommended task size is 1000 KiB.\n",
      "22/12/10 19:24:59 WARN TaskSetManager: Stage 25 contains a task of very large size (10938 KiB). The maximum recommended task size is 1000 KiB.\n",
      "22/12/10 19:24:59 WARN TaskSetManager: Stage 26 contains a task of very large size (10938 KiB). The maximum recommended task size is 1000 KiB.\n",
      "22/12/10 19:24:59 WARN TaskSetManager: Stage 27 contains a task of very large size (10938 KiB). The maximum recommended task size is 1000 KiB.\n",
      "22/12/10 19:24:59 WARN TaskSetManager: Stage 28 contains a task of very large size (10938 KiB). The maximum recommended task size is 1000 KiB.\n",
      "22/12/10 19:24:59 WARN TaskSetManager: Stage 29 contains a task of very large size (10938 KiB). The maximum recommended task size is 1000 KiB.\n",
      "22/12/10 19:25:00 WARN TaskSetManager: Stage 30 contains a task of very large size (10938 KiB). The maximum recommended task size is 1000 KiB.\n",
      "22/12/10 19:25:00 WARN TaskSetManager: Stage 31 contains a task of very large size (10938 KiB). The maximum recommended task size is 1000 KiB.\n",
      "22/12/10 19:25:00 WARN TaskSetManager: Stage 32 contains a task of very large size (10938 KiB). The maximum recommended task size is 1000 KiB.\n",
      "22/12/10 19:25:00 WARN TaskSetManager: Stage 33 contains a task of very large size (10938 KiB). The maximum recommended task size is 1000 KiB.\n",
      "22/12/10 19:25:00 WARN TaskSetManager: Stage 34 contains a task of very large size (10938 KiB). The maximum recommended task size is 1000 KiB.\n",
      "22/12/10 19:25:01 WARN TaskSetManager: Stage 35 contains a task of very large size (10938 KiB). The maximum recommended task size is 1000 KiB.\n",
      "22/12/10 19:25:01 WARN TaskSetManager: Stage 36 contains a task of very large size (10938 KiB). The maximum recommended task size is 1000 KiB.\n",
      "22/12/10 19:25:01 WARN TaskSetManager: Stage 37 contains a task of very large size (10938 KiB). The maximum recommended task size is 1000 KiB.\n",
      "22/12/10 19:25:01 WARN TaskSetManager: Stage 38 contains a task of very large size (10938 KiB). The maximum recommended task size is 1000 KiB.\n",
      "22/12/10 19:25:01 WARN TaskSetManager: Stage 39 contains a task of very large size (10938 KiB). The maximum recommended task size is 1000 KiB.\n",
      "22/12/10 19:25:01 WARN TaskSetManager: Stage 40 contains a task of very large size (10938 KiB). The maximum recommended task size is 1000 KiB.\n",
      "22/12/10 19:25:01 WARN TaskSetManager: Stage 41 contains a task of very large size (10938 KiB). The maximum recommended task size is 1000 KiB.\n",
      "22/12/10 19:25:02 WARN TaskSetManager: Stage 42 contains a task of very large size (10938 KiB). The maximum recommended task size is 1000 KiB.\n",
      "22/12/10 19:25:02 WARN TaskSetManager: Stage 43 contains a task of very large size (10938 KiB). The maximum recommended task size is 1000 KiB.\n",
      "22/12/10 19:25:02 WARN TaskSetManager: Stage 44 contains a task of very large size (10938 KiB). The maximum recommended task size is 1000 KiB.\n"
     ]
    }
   ],
   "source": [
    "from pyspark.ml.classification import LogisticRegression\n",
    "\n",
    "lr = LogisticRegression(featuresCol=\"features\", labelCol='toxic', regParam=0.1)\n",
    "lrModel = lr.fit(tfidf)"
   ]
  },
  {
   "cell_type": "code",
   "execution_count": 13,
   "metadata": {
    "execution": {
     "iopub.execute_input": "2022-12-10T19:25:02.729838Z",
     "iopub.status.busy": "2022-12-10T19:25:02.727844Z",
     "iopub.status.idle": "2022-12-10T19:25:02.880059Z",
     "shell.execute_reply": "2022-12-10T19:25:02.879199Z",
     "shell.execute_reply.started": "2022-12-10T19:25:02.729807Z"
    }
   },
   "outputs": [],
   "source": [
    "test_tokens = tokenizer.transform(test)\n",
    "test_tf = hashingTF.transform(test_tokens)\n",
    "test_tfidf = idfModel.transform(test_tf)\n",
    "\n",
    "res = lrModel.transform(test_tfidf)"
   ]
  },
  {
   "cell_type": "code",
   "execution_count": 14,
   "metadata": {
    "execution": {
     "iopub.execute_input": "2022-12-10T19:25:02.881310Z",
     "iopub.status.busy": "2022-12-10T19:25:02.880995Z",
     "iopub.status.idle": "2022-12-10T19:25:14.153517Z",
     "shell.execute_reply": "2022-12-10T19:25:14.152696Z",
     "shell.execute_reply.started": "2022-12-10T19:25:02.881281Z"
    }
   },
   "outputs": [
    {
     "name": "stdout",
     "output_type": "stream",
     "text": [
      "22/12/10 19:25:03 WARN TaskSetManager: Stage 45 contains a task of very large size (4286 KiB). The maximum recommended task size is 1000 KiB.\n"
     ]
    },
    {
     "name": "stderr",
     "output_type": "stream",
     "text": [
      "                                                                                \r"
     ]
    },
    {
     "data": {
      "text/plain": [
       "(47872, 8)"
      ]
     },
     "execution_count": 14,
     "metadata": {},
     "output_type": "execute_result"
    }
   ],
   "source": [
    "df_res = res.toPandas()\n",
    "df_res.shape"
   ]
  },
  {
   "cell_type": "code",
   "execution_count": 15,
   "metadata": {
    "execution": {
     "iopub.execute_input": "2022-12-10T19:25:14.155214Z",
     "iopub.status.busy": "2022-12-10T19:25:14.154586Z",
     "iopub.status.idle": "2022-12-10T19:25:14.192301Z",
     "shell.execute_reply": "2022-12-10T19:25:14.191453Z",
     "shell.execute_reply.started": "2022-12-10T19:25:14.155182Z"
    }
   },
   "outputs": [
    {
     "name": "stdout",
     "output_type": "stream",
     "text": [
      "Accuracy: 0.91\n",
      "F1: 0.59\n",
      "Recall: 0.13\n"
     ]
    }
   ],
   "source": [
    "from sklearn.metrics import f1_score, accuracy_score, recall_score\n",
    "\n",
    "y_true = df_test.toxic.values\n",
    "y_pred = df_res.prediction.values\n",
    "f1 = f1_score(y_true, y_pred, average='macro')\n",
    "ac = accuracy_score(y_true, y_pred)\n",
    "re = recall_score(y_true, y_pred)\n",
    "\n",
    "print(f'Accuracy: {ac:.2}')\n",
    "print(f'F1: {f1:.2}')\n",
    "print(f'Recall: {re:.2}')"
   ]
  },
  {
   "cell_type": "code",
   "execution_count": 16,
   "metadata": {
    "execution": {
     "iopub.execute_input": "2022-12-10T19:25:14.194882Z",
     "iopub.status.busy": "2022-12-10T19:25:14.194554Z",
     "iopub.status.idle": "2022-12-10T19:25:14.198665Z",
     "shell.execute_reply": "2022-12-10T19:25:14.197730Z",
     "shell.execute_reply.started": "2022-12-10T19:25:14.194852Z"
    }
   },
   "outputs": [],
   "source": [
    "# Увеличение количества признаков (numFeatures) положительно влияет на метрики\n",
    "\n",
    "# numFeatures - 1000\n",
    "# Accuracy: 0.91\n",
    "# F1: 0.49\n",
    "# Recall: 0.015\n",
    "    \n",
    "# numFeatures - 2000\n",
    "# Accuracy: 0.91\n",
    "# F1: 0.50\n",
    "# Recall: 0.022\n",
    "    \n",
    "# numFeatures - 5000\n",
    "# Accuracy: 0.91\n",
    "# F1: 0.53\n",
    "# Recall: 0.058\n",
    "\n",
    "# numFeatures - 20000\n",
    "# Accuracy: 0.91\n",
    "# F1: 0.59\n",
    "# Recall: 0.13"
   ]
  },
  {
   "cell_type": "markdown",
   "metadata": {},
   "source": [
    "<a id=\"20\"></a><h3 style='background:black; border:0; color:white'><center>Блок 2. Word2Vec<center>"
   ]
  },
  {
   "cell_type": "code",
   "execution_count": 22,
   "metadata": {
    "execution": {
     "iopub.execute_input": "2022-12-10T19:37:35.240173Z",
     "iopub.status.busy": "2022-12-10T19:37:35.239164Z",
     "iopub.status.idle": "2022-12-10T19:40:34.608850Z",
     "shell.execute_reply": "2022-12-10T19:40:34.608037Z",
     "shell.execute_reply.started": "2022-12-10T19:37:35.240121Z"
    }
   },
   "outputs": [
    {
     "name": "stdout",
     "output_type": "stream",
     "text": [
      "22/12/10 19:37:35 WARN TaskSetManager: Stage 62 contains a task of very large size (10938 KiB). The maximum recommended task size is 1000 KiB.\n"
     ]
    },
    {
     "name": "stderr",
     "output_type": "stream",
     "text": [
      "                                                                                \r"
     ]
    },
    {
     "name": "stdout",
     "output_type": "stream",
     "text": [
      "22/12/10 19:37:42 WARN TaskSetManager: Stage 64 contains a task of very large size (10938 KiB). The maximum recommended task size is 1000 KiB.\n"
     ]
    },
    {
     "name": "stderr",
     "output_type": "stream",
     "text": [
      "                                                                                \r"
     ]
    }
   ],
   "source": [
    "from pyspark.ml.feature import Word2Vec\n",
    "\n",
    "w2v_tokenizer = Word2Vec(vectorSize=10, minCount=0, inputCol=\"words\", outputCol=\"rawFeatures\")\n",
    "w2v = w2v_tokenizer.fit(wordsData)\n",
    "w2v_tr = w2v.transform(wordsData)"
   ]
  },
  {
   "cell_type": "code",
   "execution_count": 23,
   "metadata": {
    "execution": {
     "iopub.execute_input": "2022-12-10T19:40:34.611285Z",
     "iopub.status.busy": "2022-12-10T19:40:34.610935Z",
     "iopub.status.idle": "2022-12-10T19:40:40.917666Z",
     "shell.execute_reply": "2022-12-10T19:40:40.916848Z",
     "shell.execute_reply.started": "2022-12-10T19:40:34.611254Z"
    }
   },
   "outputs": [
    {
     "name": "stdout",
     "output_type": "stream",
     "text": [
      "22/12/10 19:40:34 WARN TaskSetManager: Stage 67 contains a task of very large size (10938 KiB). The maximum recommended task size is 1000 KiB.\n"
     ]
    },
    {
     "name": "stderr",
     "output_type": "stream",
     "text": [
      "                                                                                \r"
     ]
    },
    {
     "name": "stdout",
     "output_type": "stream",
     "text": [
      "22/12/10 19:40:36 WARN TaskSetManager: Stage 68 contains a task of very large size (10938 KiB). The maximum recommended task size is 1000 KiB.\n"
     ]
    },
    {
     "name": "stderr",
     "output_type": "stream",
     "text": [
      "                                                                                \r"
     ]
    },
    {
     "name": "stdout",
     "output_type": "stream",
     "text": [
      "22/12/10 19:40:39 WARN TaskSetManager: Stage 69 contains a task of very large size (10938 KiB). The maximum recommended task size is 1000 KiB.\n",
      "22/12/10 19:40:39 WARN TaskSetManager: Stage 70 contains a task of very large size (10938 KiB). The maximum recommended task size is 1000 KiB.\n",
      "22/12/10 19:40:39 WARN TaskSetManager: Stage 71 contains a task of very large size (10938 KiB). The maximum recommended task size is 1000 KiB.\n",
      "22/12/10 19:40:39 WARN TaskSetManager: Stage 72 contains a task of very large size (10938 KiB). The maximum recommended task size is 1000 KiB.\n",
      "22/12/10 19:40:39 WARN TaskSetManager: Stage 73 contains a task of very large size (10938 KiB). The maximum recommended task size is 1000 KiB.\n",
      "22/12/10 19:40:39 WARN TaskSetManager: Stage 74 contains a task of very large size (10938 KiB). The maximum recommended task size is 1000 KiB.\n",
      "22/12/10 19:40:40 WARN TaskSetManager: Stage 75 contains a task of very large size (10938 KiB). The maximum recommended task size is 1000 KiB.\n",
      "22/12/10 19:40:40 WARN TaskSetManager: Stage 76 contains a task of very large size (10938 KiB). The maximum recommended task size is 1000 KiB.\n",
      "22/12/10 19:40:40 WARN TaskSetManager: Stage 77 contains a task of very large size (10938 KiB). The maximum recommended task size is 1000 KiB.\n",
      "22/12/10 19:40:40 WARN TaskSetManager: Stage 78 contains a task of very large size (10938 KiB). The maximum recommended task size is 1000 KiB.\n",
      "22/12/10 19:40:40 WARN TaskSetManager: Stage 79 contains a task of very large size (10938 KiB). The maximum recommended task size is 1000 KiB.\n",
      "22/12/10 19:40:40 WARN TaskSetManager: Stage 80 contains a task of very large size (10938 KiB). The maximum recommended task size is 1000 KiB.\n"
     ]
    }
   ],
   "source": [
    "lr = LogisticRegression(featuresCol=\"rawFeatures\", labelCol='toxic', regParam=0.1)\n",
    "lrModel = lr.fit(w2v_tr)"
   ]
  },
  {
   "cell_type": "code",
   "execution_count": 24,
   "metadata": {
    "execution": {
     "iopub.execute_input": "2022-12-10T19:40:40.919815Z",
     "iopub.status.busy": "2022-12-10T19:40:40.919243Z",
     "iopub.status.idle": "2022-12-10T19:40:43.247637Z",
     "shell.execute_reply": "2022-12-10T19:40:43.246794Z",
     "shell.execute_reply.started": "2022-12-10T19:40:40.919785Z"
    }
   },
   "outputs": [],
   "source": [
    "test_w2v = w2v.transform(test_tokens)\n",
    "res = lrModel.transform(test_w2v)"
   ]
  },
  {
   "cell_type": "code",
   "execution_count": 25,
   "metadata": {
    "execution": {
     "iopub.execute_input": "2022-12-10T19:40:43.249707Z",
     "iopub.status.busy": "2022-12-10T19:40:43.249400Z",
     "iopub.status.idle": "2022-12-10T19:40:48.649380Z",
     "shell.execute_reply": "2022-12-10T19:40:48.648507Z",
     "shell.execute_reply.started": "2022-12-10T19:40:43.249679Z"
    }
   },
   "outputs": [
    {
     "name": "stdout",
     "output_type": "stream",
     "text": [
      "22/12/10 19:40:43 WARN TaskSetManager: Stage 81 contains a task of very large size (4286 KiB). The maximum recommended task size is 1000 KiB.\n"
     ]
    },
    {
     "name": "stderr",
     "output_type": "stream",
     "text": [
      "                                                                                \r"
     ]
    },
    {
     "data": {
      "text/plain": [
       "(47872, 7)"
      ]
     },
     "execution_count": 25,
     "metadata": {},
     "output_type": "execute_result"
    }
   ],
   "source": [
    "df_res = res.toPandas()\n",
    "df_res.shape"
   ]
  },
  {
   "cell_type": "code",
   "execution_count": 26,
   "metadata": {
    "execution": {
     "iopub.execute_input": "2022-12-10T19:40:48.650679Z",
     "iopub.status.busy": "2022-12-10T19:40:48.650412Z",
     "iopub.status.idle": "2022-12-10T19:40:48.690229Z",
     "shell.execute_reply": "2022-12-10T19:40:48.689362Z",
     "shell.execute_reply.started": "2022-12-10T19:40:48.650656Z"
    }
   },
   "outputs": [
    {
     "name": "stdout",
     "output_type": "stream",
     "text": [
      "Accuracy: 0.92\n",
      "F1: 0.6\n",
      "Recall: 0.14\n"
     ]
    }
   ],
   "source": [
    "y_true = df_test.toxic.values\n",
    "y_pred = df_res.prediction.values\n",
    "f1 = f1_score(y_true, y_pred, average='macro')\n",
    "ac = accuracy_score(y_true, y_pred)\n",
    "re = recall_score(y_true, y_pred)\n",
    "\n",
    "print(f'Accuracy: {ac:.2}')\n",
    "print(f'F1: {f1:.2}')\n",
    "print(f'Recall: {re:.2}')"
   ]
  },
  {
   "cell_type": "code",
   "execution_count": 29,
   "metadata": {
    "execution": {
     "iopub.execute_input": "2022-12-10T19:49:38.949548Z",
     "iopub.status.busy": "2022-12-10T19:49:38.949226Z",
     "iopub.status.idle": "2022-12-10T19:49:38.952988Z",
     "shell.execute_reply": "2022-12-10T19:49:38.952348Z",
     "shell.execute_reply.started": "2022-12-10T19:49:38.949523Z"
    }
   },
   "outputs": [],
   "source": [
    "# Метрики немного выше, но зависит от выбранных параметров vectorSize и numFeatures в методах -\n",
    "# чем они выше тем выше метрики, но нехватает производительности ноутбука"
   ]
  },
  {
   "cell_type": "code",
   "execution_count": null,
   "metadata": {},
   "outputs": [],
   "source": []
  }
 ],
 "metadata": {
  "kernelspec": {
   "display_name": "Python 3 (ipykernel)",
   "language": "python",
   "name": "python3"
  },
  "language_info": {
   "codemirror_mode": {
    "name": "ipython",
    "version": 3
   },
   "file_extension": ".py",
   "mimetype": "text/x-python",
   "name": "python",
   "nbconvert_exporter": "python",
   "pygments_lexer": "ipython3",
   "version": "3.9.7"
  }
 },
 "nbformat": 4,
 "nbformat_minor": 4
}
